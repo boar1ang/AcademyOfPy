{
 "cells": [
  {
   "cell_type": "code",
   "execution_count": null,
   "metadata": {},
   "outputs": [],
   "source": [
    "# Dependencies and Setup\n",
    "import pandas as pd\n",
    "import numpy as np"
   ]
  },
  {
   "cell_type": "code",
   "execution_count": null,
   "metadata": {},
   "outputs": [],
   "source": [
    "# Files to Load \n",
    "school_data_to_load = \"Resources/schools_complete.csv\"\n",
    "student_data_to_load = \"Resources/students_complete.csv\""
   ]
  },
  {
   "cell_type": "code",
   "execution_count": null,
   "metadata": {},
   "outputs": [],
   "source": [
    "# Read School & Student Data files into Pandas DataFrames\n",
    "school_data = pd.read_csv(school_data_to_load)\n",
    "student_data = pd.read_csv(student_data_to_load)"
   ]
  },
  {
   "cell_type": "code",
   "execution_count": null,
   "metadata": {},
   "outputs": [],
   "source": [
    "# Combine the data into a single dataset\n",
    "school_data_complete = pd.merge(student_data, school_data, how=\"left\", on=[\"school_name\", \"school_name\"])\n",
    "school_data_complete.head()"
   ]
  },
  {
   "cell_type": "code",
   "execution_count": null,
   "metadata": {},
   "outputs": [],
   "source": [
    "school_data_complete.shape"
   ]
  },
  {
   "cell_type": "markdown",
   "metadata": {},
   "source": [
    "## District Summary"
   ]
  },
  {
   "cell_type": "markdown",
   "metadata": {},
   "source": [
    "* Calculate the total number of schools"
   ]
  },
  {
   "cell_type": "code",
   "execution_count": null,
   "metadata": {},
   "outputs": [],
   "source": [
    "total_schools = school_data_complete[\"school_name\"].unique()\n",
    "total_schools = (len(total_schools))\n",
    "print(f'Total schools = {total_schools}')"
   ]
  },
  {
   "cell_type": "code",
   "execution_count": null,
   "metadata": {},
   "outputs": [],
   "source": [
    "schools = school_data_complete[\"school_name\"].unique()\n",
    "print(schools)"
   ]
  },
  {
   "cell_type": "code",
   "execution_count": null,
   "metadata": {},
   "outputs": [],
   "source": [
    "types = school_data_complete[\"type\"].unique()\n",
    "types"
   ]
  },
  {
   "cell_type": "markdown",
   "metadata": {},
   "source": [
    "* Calculate the total number of students"
   ]
  },
  {
   "cell_type": "code",
   "execution_count": null,
   "metadata": {},
   "outputs": [],
   "source": [
    "total_students = len(school_data_complete)\n",
    "print(f'Total students = {total_students}')"
   ]
  },
  {
   "cell_type": "markdown",
   "metadata": {},
   "source": [
    "* Calculate the total budget"
   ]
  },
  {
   "cell_type": "code",
   "execution_count": null,
   "metadata": {},
   "outputs": [],
   "source": [
    "budget_group_df = pd.DataFrame(school_data_complete.groupby(\"school_name\").max())\n",
    "total_budget = budget_group_df[\"budget\"].sum()\n",
    "total_budget"
   ]
  },
  {
   "cell_type": "code",
   "execution_count": null,
   "metadata": {},
   "outputs": [],
   "source": [
    "#Convert grade to integer\n",
    "school_data_complete[\"grade\"] = school_data_complete[\"grade\"].str.replace(\"th\", \"\")\n",
    "school_data_complete[\"grade\"] = school_data_complete[\"grade\"].astype(int)\n",
    "school_data_complete.head()"
   ]
  },
  {
   "cell_type": "code",
   "execution_count": null,
   "metadata": {},
   "outputs": [],
   "source": [
    "#Format budgets to appear as currency\n",
    "budget_group_df = budget_group_df[\"budget\"].map(\"${:,}\".format)\n",
    "budget_group_df"
   ]
  },
  {
   "cell_type": "markdown",
   "metadata": {},
   "source": [
    "* Calculate the average math score "
   ]
  },
  {
   "cell_type": "code",
   "execution_count": null,
   "metadata": {},
   "outputs": [],
   "source": [
    "dist_math_avg = school_data_complete[\"math_score\"].mean()\n",
    "dist_math_avg = round(dist_math_avg, 1)\n",
    "dist_math_avg"
   ]
  },
  {
   "cell_type": "markdown",
   "metadata": {},
   "source": [
    "*Calculate the average reading score"
   ]
  },
  {
   "cell_type": "code",
   "execution_count": null,
   "metadata": {},
   "outputs": [],
   "source": [
    "dist_reading_avg = school_data_complete[\"reading_score\"].mean()\n",
    "dist_reading_avg = round(dist_reading_avg, 1)\n",
    "dist_reading_avg"
   ]
  },
  {
   "cell_type": "markdown",
   "metadata": {},
   "source": [
    "* Calculate the average reading score"
   ]
  },
  {
   "cell_type": "code",
   "execution_count": null,
   "metadata": {},
   "outputs": [],
   "source": [
    "school_avgs = (school_data_complete.groupby([\"school_name\"]).mean())\n",
    "school_avgs = round(school_avgs, 1)\n",
    "school_avgs"
   ]
  },
  {
   "cell_type": "markdown",
   "metadata": {},
   "source": [
    "* Calculate the overall passing rate (overall average score), i.e. (avg. math score + avg. reading score)/2"
   ]
  },
  {
   "cell_type": "code",
   "execution_count": null,
   "metadata": {},
   "outputs": [],
   "source": [
    "overall = (dist_math_avg + dist_reading_avg)/2\n",
    "overall = (round(overall, 1))\n",
    "overall"
   ]
  },
  {
   "cell_type": "markdown",
   "metadata": {},
   "source": [
    "* Calculate the percentage of students with a passing math score (70 or greater)"
   ]
  },
  {
   "cell_type": "code",
   "execution_count": null,
   "metadata": {},
   "outputs": [],
   "source": [
    "math_pass_count = school_data_complete.loc[school_data_complete[\"math_score\"] >= 70]\n",
    "math_pass_pcnt = (((len(math_pass_count))/total_students) * 100)\n",
    "math_pass_pcnt = round(math_pass_pcnt,1)\n",
    "math_pass_pcnt"
   ]
  },
  {
   "cell_type": "markdown",
   "metadata": {},
   "source": [
    "* Calculate the percentage of students with a passing reading score (70 or greater)"
   ]
  },
  {
   "cell_type": "code",
   "execution_count": null,
   "metadata": {},
   "outputs": [],
   "source": [
    "reading_pass_count = school_data_complete.loc[school_data_complete[\"reading_score\"] >= 70]\n",
    "reading_pass_pcnt = (((len(reading_pass_count))/total_students) *100)\n",
    "reading_pass_pcnt = (round(reading_pass_pcnt, 1))\n",
    "reading_pass_pcnt"
   ]
  },
  {
   "cell_type": "code",
   "execution_count": null,
   "metadata": {},
   "outputs": [],
   "source": [
    "#Create new District Summary dataframe:\n",
    "dist_df = pd.DataFrame({\n",
    "        \"Total Students\": [total_students],\n",
    "        \"Total District Budget\": (total_budget),\n",
    "        \"District Math Average\": (dist_math_avg),\n",
    "        \"Percent Students Passing Math\" : str(math_pass_pcnt)+\"%\",\n",
    "        \"District Reading Average\": (dist_reading_avg),\n",
    "        \"Percent Students Passing Reading\": str(reading_pass_pcnt)+\"%\",\n",
    "        \"Overall Passing Rate\": str(overall)+\"%\"\n",
    "})"
   ]
  },
  {
   "cell_type": "code",
   "execution_count": null,
   "metadata": {},
   "outputs": [],
   "source": [
    "#Format values in new dataframe\n",
    "dist_df[\"Total Students\"] = dist_df[\"Total Students\"].map(\"{:,}\".format)\n",
    "dist_df[\"Total District Budget\"] = dist_df[\"Total District Budget\"].map(\"${:,}\".format)\n",
    "dist_df"
   ]
  },
  {
   "cell_type": "markdown",
   "metadata": {},
   "source": [
    "## School Summary\n",
    "\n",
    "* Create an overview table that summarizes key metrics about each school, including:\n",
    "  * School Name\n",
    "  * School Type\n",
    "  * Total Students\n",
    "  * Total School Budget\n",
    "  * Per Student Budget\n",
    "  * Average Math Score\n",
    "  * Average Reading Score\n",
    "  * % Passing Math\n",
    "  * % Passing Reading\n",
    "  * Overall Passing Rate (Average of the above two)\n",
    "  \n",
    "* Create a dataframe to hold the above results"
   ]
  },
  {
   "cell_type": "code",
   "execution_count": null,
   "metadata": {},
   "outputs": [],
   "source": [
    "school_pop = school_data_complete[\"school_name\"].value_counts()\n",
    "school_pop"
   ]
  },
  {
   "cell_type": "code",
   "execution_count": null,
   "metadata": {},
   "outputs": [],
   "source": [
    "schools_df = pd.DataFrame(schools, school_pop)\n",
    "schools_df"
   ]
  },
  {
   "cell_type": "code",
   "execution_count": null,
   "metadata": {},
   "outputs": [],
   "source": [
    "school_group = school_data_complete.groupby(\"school_name\")\n",
    "budgets = school_group[\"budget\"].max()\n",
    "print(budgets)"
   ]
  },
  {
   "cell_type": "code",
   "execution_count": null,
   "metadata": {},
   "outputs": [],
   "source": [
    "pp_spend = budgets/school_pop\n",
    "pp_spend = pp_spend.astype(int)\n",
    "pp_spend"
   ]
  },
  {
   "cell_type": "code",
   "execution_count": null,
   "metadata": {},
   "outputs": [],
   "source": [
    "school_level_summary_df = pd.DataFrame({\n",
    "    \"Student Pop.\":school_pop, \n",
    "    \"Budget\": budgets, \n",
    "    \"Per Pupil Spend\": pp_spend}, \n",
    "    index=schools\n",
    ")\n",
    "school_level_summary_df"
   ]
  },
  {
   "cell_type": "markdown",
   "metadata": {},
   "source": [
    "## Top Performing Schools (By Passing Rate)\n",
    "\n",
    "* Sort and display the top five schools in overall passing rate"
   ]
  },
  {
   "cell_type": "code",
   "execution_count": null,
   "metadata": {},
   "outputs": [],
   "source": [
    "math_rate_by_school = school_group[\"math_score\"].mean()\n",
    "math_rate_by_school = round(math_rate_by_school, 1)\n",
    "math_rate_by_school.sort_values(ascending=False)"
   ]
  },
  {
   "cell_type": "code",
   "execution_count": null,
   "metadata": {},
   "outputs": [],
   "source": [
    "reading_rate_by_school = school_group[\"reading_score\"].mean()\n",
    "reading_rate_by_school = round(reading_rate_by_school, 1)\n",
    "reading_rate_by_school "
   ]
  },
  {
   "cell_type": "code",
   "execution_count": null,
   "metadata": {},
   "outputs": [],
   "source": [
    "school_level_summary_df[\"Math Pass Rate\"] = math_rate_by_school\n",
    "school_level_summary_df[\"Reading Pass Rate\"] = reading_rate_by_school"
   ]
  },
  {
   "cell_type": "code",
   "execution_count": null,
   "metadata": {},
   "outputs": [],
   "source": [
    "overall_by_school = (math_rate_by_school + reading_rate_by_school)/2\n",
    "overall_by_school =(round(overall_by_school, 1))\n",
    "overall_by_school = overall_by_school.sort_values(ascending=False)\n",
    "overall_by_school\n",
    "\n",
    "school_level_summary_df[\"Overall\"] = overall_by_school\n",
    "del school_level_summary_df[\"Budget\"]\n",
    "\n",
    "school_level_summary_df.head(8)"
   ]
  },
  {
   "cell_type": "code",
   "execution_count": null,
   "metadata": {},
   "outputs": [],
   "source": [
    "school_level_summary_df.dtypes"
   ]
  },
  {
   "cell_type": "code",
   "execution_count": null,
   "metadata": {},
   "outputs": [],
   "source": [
    "ranked_reading = reading_rate_by_school.sort_values(ascending=False)\n",
    "ranked_reading = ranked_reading.head(5)\n",
    "ranked_reading = round(ranked_reading, 1)\n",
    "ranked_reading"
   ]
  },
  {
   "cell_type": "code",
   "execution_count": null,
   "metadata": {},
   "outputs": [],
   "source": [
    "ranked_math = math_rate_by_school.nlargest(5)\n",
    "ranked_math = round(ranked_math, 1)\n",
    "ranked_math"
   ]
  },
  {
   "cell_type": "code",
   "execution_count": null,
   "metadata": {},
   "outputs": [],
   "source": [
    "best_overall = overall_by_school.head(5)\n",
    "best_overall = round(best_overall, 1)\n",
    "best_overall"
   ]
  },
  {
   "cell_type": "code",
   "execution_count": null,
   "metadata": {},
   "outputs": [],
   "source": [
    "worst_overall = overall_by_school.nsmallest(5)\n",
    "worst_overall = round(worst_overall, 1)\n",
    "worst_overall"
   ]
  },
  {
   "cell_type": "code",
   "execution_count": null,
   "metadata": {},
   "outputs": [],
   "source": [
    "top5_overall = school_level_summary_df[\"Overall\"].nlargest(5)\n",
    "top5_overall"
   ]
  },
  {
   "cell_type": "code",
   "execution_count": null,
   "metadata": {},
   "outputs": [],
   "source": [
    "bottom5_overall = school_level_summary_df[\"Overall\"].nsmallest(5)\n",
    "bottom5_overall"
   ]
  },
  {
   "cell_type": "code",
   "execution_count": null,
   "metadata": {},
   "outputs": [],
   "source": [
    "top5_data = ({\"Top 5 Performing Schools\": [\n",
    "    \"Pena High School\",       \n",
    "    \"Holden High School\",     \n",
    "    \"Wright High School\",     \n",
    "    \"Shelton High School\",   \n",
    "    \"Griffin High School\"]\n",
    "             })    \n",
    "top5_data_df = pd.DataFrame(top5_data)\n",
    "top5_data_df              "
   ]
  },
  {
   "cell_type": "code",
   "execution_count": null,
   "metadata": {},
   "outputs": [],
   "source": [
    "grade_grouped = school_data_complete.groupby([\"school_name\", \"grade\"])\n",
    "grade_grouped = (round(grade_grouped.mean(),1))\n",
    "grade_grouped_df = pd.DataFrame(grade_grouped[[\"reading_score\", \"math_score\"]])\n",
    "grade_grouped_df = grade_grouped_df.rename(columns={\"reading_score\": \"Reading Avg\", \"math_score\": \"Math Avg\"})\n",
    "grade_grouped_df = grade_grouped_df.sort_values(by=[\"school_name\", \"grade\"])\n",
    "grade_grouped_df.head()"
   ]
  },
  {
   "cell_type": "code",
   "execution_count": null,
   "metadata": {},
   "outputs": [],
   "source": [
    "#Add new column for Overall Avg\n",
    "grade_grouped_df[\"Overall Avg\"] = 0.0"
   ]
  },
  {
   "cell_type": "markdown",
   "metadata": {},
   "source": [
    "## Math & Reading Scores by Grade & School"
   ]
  },
  {
   "cell_type": "code",
   "execution_count": null,
   "metadata": {},
   "outputs": [],
   "source": [
    "grade_grouped_df[\"Overall Avg\"] = round(((grade_grouped_df[\"Reading Avg\"] + grade_grouped_df[\"Math Avg\"])/2), 1)\n",
    "grade_grouped_df"
   ]
  },
  {
   "cell_type": "code",
   "execution_count": null,
   "metadata": {},
   "outputs": [],
   "source": [
    "print(school_level_summary_df[\"Per Pupil Spend\"].max())\n",
    "print(school_level_summary_df[\"Per Pupil Spend\"].min())"
   ]
  },
  {
   "cell_type": "code",
   "execution_count": null,
   "metadata": {},
   "outputs": [],
   "source": [
    "bins=[575, 600, 625, 650, 675]\n",
    "group_labels = [\"Low Investment\", \"Low Avg\", \"High Avg\", \"High Investment\"]\n",
    "school_level_summary_df[\"Investment Level\"] = pd.cut(school_level_summary_df[\"Per Pupil Spend\"], bins, labels = group_labels)\n",
    "school_level_summary_df.head()"
   ]
  },
  {
   "cell_type": "code",
   "execution_count": null,
   "metadata": {},
   "outputs": [],
   "source": [
    "size_bins = [0, 1000, 2000, 5000]\n",
    "group_names = [\"Small (<1000)\", \"Medium (1000-2000)\", \"Large (2000-5000)\"]\n",
    "school_level_summary_df[\"School Size\"] = pd.cut(school_level_summary_df[\"Student Pop.\"], size_bins, labels = group_names)\n",
    "school_level_summary_df[\"Per Pupil Spend\"] = school_level_summary_df[\"Per Pupil Spend\"].map(\"${}\".format)\n",
    "school_level_summary_df.sort_values(\"School Size\")"
   ]
  },
  {
   "cell_type": "code",
   "execution_count": null,
   "metadata": {},
   "outputs": [],
   "source": [
    "def highlight(val):\n",
    "    yellow = 'background-color: yellow' if val ==\"High Investment\" else ''\n",
    "    return yellow\n",
    "school_level_summary_df.style.applymap(highlight)"
   ]
  }
 ],
 "metadata": {
  "kernelspec": {
   "display_name": "Python 3",
   "language": "python",
   "name": "python3"
  },
  "language_info": {
   "codemirror_mode": {
    "name": "ipython",
    "version": 3
   },
   "file_extension": ".py",
   "mimetype": "text/x-python",
   "name": "python",
   "nbconvert_exporter": "python",
   "pygments_lexer": "ipython3",
   "version": "3.6.9"
  }
 },
 "nbformat": 4,
 "nbformat_minor": 2
}
